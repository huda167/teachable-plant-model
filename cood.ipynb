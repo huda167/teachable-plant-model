{
  "nbformat": 4,
  "nbformat_minor": 0,
  "metadata": {
    "colab": {
      "provenance": [],
      "authorship_tag": "ABX9TyMvKPpWl8xnS5S3kdYDl9xN",
      "include_colab_link": true
    },
    "kernelspec": {
      "name": "python3",
      "display_name": "Python 3"
    },
    "language_info": {
      "name": "python"
    }
  },
  "cells": [
    {
      "cell_type": "markdown",
      "metadata": {
        "id": "view-in-github",
        "colab_type": "text"
      },
      "source": [
        "<a href=\"https://colab.research.google.com/github/huda167/teachable-plant-model/blob/main/cood.ipynb\" target=\"_parent\"><img src=\"https://colab.research.google.com/assets/colab-badge.svg\" alt=\"Open In Colab\"/></a>"
      ]
    },
    {
      "cell_type": "code",
      "source": [
        "import numpy as np\n",
        "import tensorflow as tf\n",
        "from PIL import Image, ImageOps\n",
        "\n",
        "# تحميل الفئات\n",
        "class_names = open(\"labels.txt\", \"r\").readlines()\n",
        "\n",
        "# تحميل الصورة\n",
        "image = Image.open(\"test.jpg\").convert(\"RGB\")\n",
        "\n",
        "# تغيير الحجم\n",
        "size = (224, 224)\n",
        "image = ImageOps.fit(image, size, Image.Resampling.LANCZOS)\n",
        "image_array = np.asarray(image).astype(np.float32)\n",
        "\n",
        "# تطبيع\n",
        "normalized_image_array = (image_array / 127.5) - 1\n",
        "input_data = np.expand_dims(normalized_image_array, axis=0)\n",
        "\n",
        "# تحميل نموذج TFLite\n",
        "interpreter = tf.lite.Interpreter(model_path=\"model_unquant.tflite\")\n",
        "interpreter.allocate_tensors()\n",
        "\n",
        "input_index = interpreter.get_input_details()[0][\"index\"]\n",
        "output_index = interpreter.get_output_details()[0][\"index\"]\n",
        "\n",
        "# تشغيل النموذج\n",
        "interpreter.set_tensor(input_index, input_data)\n",
        "interpreter.invoke()\n",
        "prediction = interpreter.get_tensor(output_index)\n",
        "\n",
        "# استخراج النتيجة\n",
        "index = np.argmax(prediction)\n",
        "class_name = class_names[index].strip()\n",
        "confidence_score = prediction[0][index]\n",
        "\n",
        "# عرض النتائج\n",
        "print(\"Class:\", class_name)\n",
        "print(\"Confidence Score:\", confidence_score)"
      ],
      "metadata": {
        "colab": {
          "base_uri": "https://localhost:8080/"
        },
        "id": "EKXttpsVeOiB",
        "outputId": "3eef3909-4979-4d45-fc27-d919c15a810f"
      },
      "execution_count": 4,
      "outputs": [
        {
          "output_type": "stream",
          "name": "stdout",
          "text": [
            "Class: 0 نباتات\n",
            "Confidence Score: 0.9852904\n"
          ]
        }
      ]
    }
  ]
}